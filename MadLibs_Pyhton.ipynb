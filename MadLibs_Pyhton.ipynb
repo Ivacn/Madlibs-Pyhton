{
  "nbformat": 4,
  "nbformat_minor": 0,
  "metadata": {
    "colab": {
      "name": "MadLibs-Pyhton.ipynb",
      "provenance": [],
      "authorship_tag": "ABX9TyPuQqxrlHYDSpmlA4kwDxfz",
      "include_colab_link": true
    },
    "kernelspec": {
      "name": "python3",
      "display_name": "Python 3"
    },
    "language_info": {
      "name": "python"
    }
  },
  "cells": [
    {
      "cell_type": "markdown",
      "metadata": {
        "id": "view-in-github",
        "colab_type": "text"
      },
      "source": [
        "<a href=\"https://colab.research.google.com/github/Ivacn/Madlibs-Pyhton/blob/main/MadLibs_Pyhton.ipynb\" target=\"_parent\"><img src=\"https://colab.research.google.com/assets/colab-badge.svg\" alt=\"Open In Colab\"/></a>"
      ]
    },
    {
      "cell_type": "code",
      "source": [
        "loop=1\n",
        "while(loop<10):\n",
        "  adjective=input(\"Please choose an adjective:\")\n",
        "  noun=input(\"Please choose a noun:\")\n",
        "  verb=input(\"choose a verb:\")\n",
        "  adverb=input(\"Name an adverb\")\n",
        "  adjective=input(\"Please choose an adjective :\")\n",
        "  noun_two=input(\"Please choose a noun:\")\n",
        "\n",
        "  print(\"----------------------------------\")\n",
        "\n",
        "  print (\"Today I went to the Zoo. I saw a(n)\",adjective)\n",
        "\n",
        "  print (\"\", noun,\"jumping up and down in its tree.\")\n",
        "\n",
        "  print (\"He\",verb,\"\",adverb)\n",
        "\n",
        "  print (\"through the large tunnel that led to its\",adjective,)\n",
        "\n",
        "  print()\n",
        "\n",
        "  print (\"\",noun_two)\n",
        "\n",
        "\n",
        "  print (\"------------------------------------------\")\n",
        "\n",
        "loop=loop+1\n",
        "\n"
      ],
      "metadata": {
        "id": "dQ4RId167nAh"
      },
      "execution_count": null,
      "outputs": []
    }
  ]
}